{
 "cells": [
  {
   "cell_type": "code",
   "execution_count": 1,
   "id": "35ed12f6",
   "metadata": {},
   "outputs": [],
   "source": [
    "import pandas as pd\n",
    "import numpy as np\n",
    "import matplotlib.pyplot as plt\n",
    "import seaborn as sns"
   ]
  },
  {
   "cell_type": "code",
   "execution_count": 2,
   "id": "101c2739",
   "metadata": {},
   "outputs": [],
   "source": [
    "df = pd.read_csv('cleaned_thesis_dataset.csv')"
   ]
  },
  {
   "cell_type": "code",
   "execution_count": 3,
   "id": "2aee1844",
   "metadata": {},
   "outputs": [
    {
     "data": {
      "text/html": [
       "<div>\n",
       "<style scoped>\n",
       "    .dataframe tbody tr th:only-of-type {\n",
       "        vertical-align: middle;\n",
       "    }\n",
       "\n",
       "    .dataframe tbody tr th {\n",
       "        vertical-align: top;\n",
       "    }\n",
       "\n",
       "    .dataframe thead th {\n",
       "        text-align: right;\n",
       "    }\n",
       "</style>\n",
       "<table border=\"1\" class=\"dataframe\">\n",
       "  <thead>\n",
       "    <tr style=\"text-align: right;\">\n",
       "      <th></th>\n",
       "      <th>Age</th>\n",
       "      <th>Financial Status</th>\n",
       "      <th>Has a Laptop</th>\n",
       "      <th>Type of Internet Connection</th>\n",
       "      <th>CC100</th>\n",
       "      <th>CC101</th>\n",
       "      <th>CC102</th>\n",
       "      <th>CS111/IT112</th>\n",
       "      <th>English Prof</th>\n",
       "      <th>Reading Compre</th>\n",
       "      <th>...</th>\n",
       "      <th>TVL-HE</th>\n",
       "      <th>TVL-ICT</th>\n",
       "      <th>Female</th>\n",
       "      <th>Male</th>\n",
       "      <th>Prefer not to say</th>\n",
       "      <th>2018</th>\n",
       "      <th>2019</th>\n",
       "      <th>2020</th>\n",
       "      <th>2021</th>\n",
       "      <th>label</th>\n",
       "    </tr>\n",
       "  </thead>\n",
       "  <tbody>\n",
       "    <tr>\n",
       "      <th>0</th>\n",
       "      <td>22</td>\n",
       "      <td>5</td>\n",
       "      <td>2</td>\n",
       "      <td>2</td>\n",
       "      <td>7</td>\n",
       "      <td>6</td>\n",
       "      <td>6</td>\n",
       "      <td>7</td>\n",
       "      <td>41.05</td>\n",
       "      <td>30.03</td>\n",
       "      <td>...</td>\n",
       "      <td>0</td>\n",
       "      <td>1</td>\n",
       "      <td>0</td>\n",
       "      <td>1</td>\n",
       "      <td>0</td>\n",
       "      <td>1</td>\n",
       "      <td>0</td>\n",
       "      <td>0</td>\n",
       "      <td>0</td>\n",
       "      <td>0</td>\n",
       "    </tr>\n",
       "    <tr>\n",
       "      <th>1</th>\n",
       "      <td>24</td>\n",
       "      <td>1</td>\n",
       "      <td>2</td>\n",
       "      <td>1</td>\n",
       "      <td>3</td>\n",
       "      <td>2</td>\n",
       "      <td>6</td>\n",
       "      <td>5</td>\n",
       "      <td>61.05</td>\n",
       "      <td>48.40</td>\n",
       "      <td>...</td>\n",
       "      <td>0</td>\n",
       "      <td>1</td>\n",
       "      <td>0</td>\n",
       "      <td>1</td>\n",
       "      <td>0</td>\n",
       "      <td>1</td>\n",
       "      <td>0</td>\n",
       "      <td>0</td>\n",
       "      <td>0</td>\n",
       "      <td>1</td>\n",
       "    </tr>\n",
       "    <tr>\n",
       "      <th>2</th>\n",
       "      <td>21</td>\n",
       "      <td>1</td>\n",
       "      <td>2</td>\n",
       "      <td>2</td>\n",
       "      <td>9</td>\n",
       "      <td>7</td>\n",
       "      <td>7</td>\n",
       "      <td>7</td>\n",
       "      <td>49.95</td>\n",
       "      <td>71.99</td>\n",
       "      <td>...</td>\n",
       "      <td>0</td>\n",
       "      <td>0</td>\n",
       "      <td>1</td>\n",
       "      <td>0</td>\n",
       "      <td>0</td>\n",
       "      <td>1</td>\n",
       "      <td>0</td>\n",
       "      <td>0</td>\n",
       "      <td>0</td>\n",
       "      <td>1</td>\n",
       "    </tr>\n",
       "    <tr>\n",
       "      <th>3</th>\n",
       "      <td>22</td>\n",
       "      <td>0</td>\n",
       "      <td>0</td>\n",
       "      <td>2</td>\n",
       "      <td>6</td>\n",
       "      <td>9</td>\n",
       "      <td>2</td>\n",
       "      <td>8</td>\n",
       "      <td>89.71</td>\n",
       "      <td>77.12</td>\n",
       "      <td>...</td>\n",
       "      <td>0</td>\n",
       "      <td>0</td>\n",
       "      <td>0</td>\n",
       "      <td>1</td>\n",
       "      <td>0</td>\n",
       "      <td>1</td>\n",
       "      <td>0</td>\n",
       "      <td>0</td>\n",
       "      <td>0</td>\n",
       "      <td>1</td>\n",
       "    </tr>\n",
       "    <tr>\n",
       "      <th>4</th>\n",
       "      <td>23</td>\n",
       "      <td>1</td>\n",
       "      <td>2</td>\n",
       "      <td>2</td>\n",
       "      <td>8</td>\n",
       "      <td>9</td>\n",
       "      <td>7</td>\n",
       "      <td>8</td>\n",
       "      <td>95.51</td>\n",
       "      <td>71.99</td>\n",
       "      <td>...</td>\n",
       "      <td>0</td>\n",
       "      <td>1</td>\n",
       "      <td>1</td>\n",
       "      <td>0</td>\n",
       "      <td>0</td>\n",
       "      <td>1</td>\n",
       "      <td>0</td>\n",
       "      <td>0</td>\n",
       "      <td>0</td>\n",
       "      <td>1</td>\n",
       "    </tr>\n",
       "  </tbody>\n",
       "</table>\n",
       "<p>5 rows × 30 columns</p>\n",
       "</div>"
      ],
      "text/plain": [
       "   Age  Financial Status  Has a Laptop  Type of Internet Connection  CC100  \\\n",
       "0   22                 5             2                            2      7   \n",
       "1   24                 1             2                            1      3   \n",
       "2   21                 1             2                            2      9   \n",
       "3   22                 0             0                            2      6   \n",
       "4   23                 1             2                            2      8   \n",
       "\n",
       "   CC101  CC102  CS111/IT112  English Prof  Reading Compre  ...  TVL-HE  \\\n",
       "0      6      6            7         41.05           30.03  ...       0   \n",
       "1      2      6            5         61.05           48.40  ...       0   \n",
       "2      7      7            7         49.95           71.99  ...       0   \n",
       "3      9      2            8         89.71           77.12  ...       0   \n",
       "4      9      7            8         95.51           71.99  ...       0   \n",
       "\n",
       "   TVL-ICT  Female  Male  Prefer not to say  2018  2019  2020  2021  label  \n",
       "0        1       0     1                  0     1     0     0     0      0  \n",
       "1        1       0     1                  0     1     0     0     0      1  \n",
       "2        0       1     0                  0     1     0     0     0      1  \n",
       "3        0       0     1                  0     1     0     0     0      1  \n",
       "4        1       1     0                  0     1     0     0     0      1  \n",
       "\n",
       "[5 rows x 30 columns]"
      ]
     },
     "execution_count": 3,
     "metadata": {},
     "output_type": "execute_result"
    }
   ],
   "source": [
    "df.head()"
   ]
  },
  {
   "cell_type": "code",
   "execution_count": 4,
   "id": "2c146630",
   "metadata": {},
   "outputs": [
    {
     "data": {
      "text/plain": [
       "(428, 30)"
      ]
     },
     "execution_count": 4,
     "metadata": {},
     "output_type": "execute_result"
    }
   ],
   "source": [
    "df.shape"
   ]
  },
  {
   "cell_type": "code",
   "execution_count": 5,
   "id": "22abd48f",
   "metadata": {},
   "outputs": [
    {
     "data": {
      "text/plain": [
       "Index(['Age', 'Financial Status', 'Has a Laptop',\n",
       "       'Type of Internet Connection', 'CC100', 'CC101', 'CC102', 'CS111/IT112',\n",
       "       'English Prof', 'Reading Compre', 'Science Process', 'Quantitative',\n",
       "       'Abstract', 'CET OAPR', 'SHS/HS GPA', 'ABM/BAM', 'GAS', 'HUMSS', 'STEM',\n",
       "       'Sports Track', 'TVL-HE', 'TVL-ICT', 'Female', 'Male',\n",
       "       'Prefer not to say', '2018', '2019', '2020', '2021', 'label'],\n",
       "      dtype='object')"
      ]
     },
     "execution_count": 5,
     "metadata": {},
     "output_type": "execute_result"
    }
   ],
   "source": [
    "df.columns"
   ]
  },
  {
   "cell_type": "code",
   "execution_count": 6,
   "id": "fa093d4f",
   "metadata": {},
   "outputs": [
    {
     "data": {
      "text/plain": [
       "Index(['Age', 'Financial Status', 'Has a Laptop',\n",
       "       'Type of Internet Connection', 'CC100', 'CC101', 'CC102', 'CS111/IT112',\n",
       "       'English Prof', 'Reading Compre', 'Science Process', 'Quantitative',\n",
       "       'Abstract', 'CET OAPR', 'SHS/HS GPA', 'ABM/BAM', 'GAS', 'HUMSS', 'STEM',\n",
       "       'Sports Track', 'TVL-HE', 'TVL-ICT', 'Female', 'Male',\n",
       "       'Prefer not to say', '2018', '2019', '2020', '2021'],\n",
       "      dtype='object')"
      ]
     },
     "execution_count": 6,
     "metadata": {},
     "output_type": "execute_result"
    }
   ],
   "source": [
    "features = df.columns[:29]\n",
    "features"
   ]
  },
  {
   "cell_type": "code",
   "execution_count": 7,
   "id": "9b37a184",
   "metadata": {},
   "outputs": [
    {
     "data": {
      "text/plain": [
       "Index(['label'], dtype='object')"
      ]
     },
     "execution_count": 7,
     "metadata": {},
     "output_type": "execute_result"
    }
   ],
   "source": [
    "target = df.columns[-1:]\n",
    "target"
   ]
  },
  {
   "cell_type": "code",
   "execution_count": 8,
   "id": "ba6d41bb",
   "metadata": {},
   "outputs": [
    {
     "name": "stderr",
     "output_type": "stream",
     "text": [
      "C:\\ProgramData\\Anaconda3\\lib\\site-packages\\seaborn\\_decorators.py:36: FutureWarning: Pass the following variable as a keyword arg: x. From version 0.12, the only valid positional argument will be `data`, and passing other arguments without an explicit keyword will result in an error or misinterpretation.\n",
      "  warnings.warn(\n"
     ]
    },
    {
     "data": {
      "image/png": "[encoded data removed]",
      "text/plain": [
       "<Figure size 576x576 with 1 Axes>"
      ]
     },
     "metadata": {
      "needs_background": "light"
     },
     "output_type": "display_data"
    }
   ],
   "source": [
    "plt.figure(figsize=(8, 8))\n",
    "sns.countplot(df['label'], data=df)\n",
    "plt.title('Before Resampling')\n",
    "plt.show()"
   ]
  },
  {
   "cell_type": "code",
   "execution_count": 9,
   "id": "8dee729d",
   "metadata": {},
   "outputs": [
    {
     "data": {
      "text/plain": [
       "1    415\n",
       "0     13\n",
       "Name: label, dtype: int64"
      ]
     },
     "execution_count": 9,
     "metadata": {},
     "output_type": "execute_result"
    }
   ],
   "source": [
    "df.label.value_counts()"
   ]
  },
  {
   "cell_type": "markdown",
   "id": "25faa52c",
   "metadata": {},
   "source": [
    "## Training and Testing of dataset with 90:10 split of train and test data"
   ]
  },
  {
   "cell_type": "code",
   "execution_count": 10,
   "id": "27b7a8e6",
   "metadata": {},
   "outputs": [],
   "source": [
    "from sklearn.model_selection import train_test_split\n",
    "train, test = train_test_split(df, test_size=0.1, random_state=0, stratify=df['label'])"
   ]
  },
  {
   "cell_type": "code",
   "execution_count": 11,
   "id": "7377662a",
   "metadata": {},
   "outputs": [],
   "source": [
    "# Load the dataset\n",
    "X_train = train[features]\n",
    "y_train = train[target]\n",
    "X_test = test[features]\n",
    "y_test = test[target]\n",
    "\n",
    "#Balance dataset using SMOTE (Oversampling)\n",
    "from imblearn.over_sampling import SMOTE\n",
    "sm = SMOTE(random_state=0)\n",
    "X_train_smote, y_train_smote = sm.fit_resample(X_train, y_train)"
   ]
  },
  {
   "cell_type": "code",
   "execution_count": 12,
   "id": "ad3dbb6d",
   "metadata": {
    "scrolled": true
   },
   "outputs": [
    {
     "name": "stdout",
     "output_type": "stream",
     "text": [
      "Oversampling Train Data:\n",
      "X_train dataset:  (746, 29)\n",
      "y_train dataset:  (746, 1)\n",
      "*********************************\n",
      "Test Data:\n",
      "X_test dataset:  (43, 29)\n",
      "y_test dataset:  (43, 1)\n"
     ]
    }
   ],
   "source": [
    "# describes info about train and test set\n",
    "print('Oversampling Train Data:')\n",
    "print(\"X_train dataset: \", X_train_smote.shape)\n",
    "print(\"y_train dataset: \", y_train_smote.shape)\n",
    "print('*********************************')\n",
    "print('Test Data:')\n",
    "print(\"X_test dataset: \", X_test.shape)\n",
    "print(\"y_test dataset: \", y_test.shape)"
   ]
  },
  {
   "cell_type": "code",
   "execution_count": 13,
   "id": "427f1b7b",
   "metadata": {},
   "outputs": [
    {
     "data": {
      "text/plain": [
       "label\n",
       "1        42\n",
       "0         1\n",
       "dtype: int64"
      ]
     },
     "execution_count": 13,
     "metadata": {},
     "output_type": "execute_result"
    }
   ],
   "source": [
    "y_test.value_counts()"
   ]
  },
  {
   "cell_type": "markdown",
   "id": "b9eeb4a5",
   "metadata": {},
   "source": [
    "## Spot Check Algorithms and Evaluation Metrics"
   ]
  },
  {
   "cell_type": "code",
   "execution_count": 14,
   "id": "ccd79747",
   "metadata": {},
   "outputs": [],
   "source": [
    "from sklearn.tree import DecisionTreeClassifier\n",
    "\n",
    "from sklearn.model_selection import cross_val_score, KFold\n",
    "from sklearn.metrics import confusion_matrix, accuracy_score, classification_report, roc_auc_score\n",
    "from numpy import mean\n",
    "from numpy import std\n",
    "import numpy as np\n",
    "import math"
   ]
  },
  {
   "cell_type": "markdown",
   "id": "0f7f2b30",
   "metadata": {},
   "source": [
    "### Include Stacking and Bagging Ensemble in building models"
   ]
  },
  {
   "cell_type": "code",
   "execution_count": 15,
   "id": "c227eea0",
   "metadata": {
    "scrolled": false
   },
   "outputs": [
    {
     "name": "stdout",
     "output_type": "stream",
     "text": [
      "\n",
      "Algorithm: Decision Tree\n",
      "Confusion Matrix:\n",
      " [[ 1  0]\n",
      " [ 2 40]]\n",
      "Accuracy: 0.9534883720930233\n",
      "              precision    recall  f1-score   support\n",
      "\n",
      "           0      0.333     1.000     0.500         1\n",
      "           1      1.000     0.952     0.976        42\n",
      "\n",
      "    accuracy                          0.953        43\n",
      "   macro avg      0.667     0.976     0.738        43\n",
      "weighted avg      0.984     0.953     0.965        43\n",
      "\n",
      "AUC-ROC Score: 0.976\n",
      "\n",
      "******************************************************\n"
     ]
    }
   ],
   "source": [
    "dt = DecisionTreeClassifier()\n",
    "dt.fit(X_train_smote, y_train_smote.values.ravel())\n",
    "predicted = dt.predict(X_test)\n",
    "print('\\nAlgorithm: Decision Tree')\n",
    "res_cm = confusion_matrix(y_test, predicted)\n",
    "print('Confusion Matrix:\\n',res_cm)\n",
    "res_acc = accuracy_score(y_test, predicted)\n",
    "print('Accuracy:',res_acc)\n",
    "print(classification_report(y_test, predicted, digits=3))\n",
    "res_auc_roc_score = roc_auc_score(y_test, predicted)\n",
    "print('AUC-ROC Score: {:.3f}'.format(res_auc_roc_score))\n",
    "print('\\n******************************************************')"
   ]
  },
  {
   "cell_type": "markdown",
   "id": "657acb9f",
   "metadata": {},
   "source": [
    "## Batch Prediction"
   ]
  },
  {
   "cell_type": "code",
   "execution_count": 16,
   "id": "a2f0df85",
   "metadata": {},
   "outputs": [],
   "source": [
    "# test the model saved as a pickle\n",
    "import pickle\n",
    "test_model = pickle.load(open('thesis_model.pkl','rb'))"
   ]
  },
  {
   "cell_type": "code",
   "execution_count": 17,
   "id": "8c310cb4",
   "metadata": {},
   "outputs": [
    {
     "data": {
      "text/plain": [
       "((43, 29), (43, 1))"
      ]
     },
     "execution_count": 17,
     "metadata": {},
     "output_type": "execute_result"
    }
   ],
   "source": [
    "X_test.shape, y_test.shape"
   ]
  },
  {
   "cell_type": "code",
   "execution_count": 47,
   "id": "f025e4fd",
   "metadata": {
    "scrolled": true
   },
   "outputs": [
    {
     "name": "stdout",
     "output_type": "stream",
     "text": [
      "     Age  Financial Status  Has a Laptop  Type of Internet Connection  CC100  \\\n",
      "117   21                 2             2                            2      6   \n",
      "246   21                 2             2                            2      6   \n",
      "176   23                 0             2                            2      9   \n",
      "153   20                 0             0                            1      9   \n",
      "187   23                 0             2                            2      7   \n",
      "149   20                 2             2                            2      5   \n",
      "409   19                 1             2                            2      6   \n",
      "380   20                 1             1                            1      5   \n",
      "199   22                 1             1                            2      1   \n",
      "101   22                 0             2                            2      6   \n",
      "345   20                 0             0                            1      3   \n",
      "195   20                 2             2                            2      9   \n",
      "167   22                 1             1                            1      0   \n",
      "89    22                 2             2                            2      5   \n",
      "404   20                 0             0                            2      6   \n",
      "204   22                 2             1                            1      1   \n",
      "55     0                 3             2                            1      9   \n",
      "343   22                 1             2                            2      4   \n",
      "74    22                 1             0                            0      8   \n",
      "185   21                 4             2                            2      6   \n",
      "427   19                 2             1                            1      7   \n",
      "130   21                 2             2                            1      1   \n",
      "339   22                 0             0                            1      3   \n",
      "267   21                 2             2                            2      6   \n",
      "412   19                 4             2                            2      7   \n",
      "29    23                 0             2                            2      7   \n",
      "245   22                 1             0                            1      9   \n",
      "386   20                 1             1                            2      7   \n",
      "90    23                 1             2                            1      3   \n",
      "33    22                 0             2                            1      8   \n",
      "26    25                 1             2                            2      4   \n",
      "165   23                 3             1                            1      2   \n",
      "414   20                 1             0                            1      8   \n",
      "341   19                 3             0                            1      7   \n",
      "291   28                 0             0                            1      5   \n",
      "287   20                 2             2                            1      8   \n",
      "403   20                 2             2                            1      7   \n",
      "293   20                 2             2                            2      4   \n",
      "129   20                 1             2                            1      7   \n",
      "41    22                 0             0                            0      8   \n",
      "\n",
      "     CC101  CC102  CS111/IT112  English Prof  Reading Compre  ...  \\\n",
      "117      9      2            5        83.470           99.70  ...   \n",
      "246      7      9            9        76.830           66.85  ...   \n",
      "176      7      5            5        86.350           71.99  ...   \n",
      "153      7      4            8        76.830           96.76  ...   \n",
      "187      1      0            7        76.830           77.12  ...   \n",
      "149      7      7            9        72.788           87.40  ...   \n",
      "409      8      6            4        86.350           48.40  ...   \n",
      "380      2      7            6        80.580           77.12  ...   \n",
      "199      7      8            4        41.050           66.85  ...   \n",
      "101      7      8            7        98.650           87.40  ...   \n",
      "345      2      5            6        83.470           87.40  ...   \n",
      "195      7      5            5        94.810           96.76  ...   \n",
      "167      6      1            2        68.500           82.26  ...   \n",
      "89       3      6            9        52.900           54.75  ...   \n",
      "404      2      7            7        52.900           61.11  ...   \n",
      "204      7      8            8        70.750           54.75  ...   \n",
      "55       7      8            8        55.840           87.40  ...   \n",
      "343      1      1            7        80.580           77.12  ...   \n",
      "74       4      7            6        76.830           35.70  ...   \n",
      "185      6      7            7        84.910           94.82  ...   \n",
      "427      4      6            7        86.350           66.85  ...   \n",
      "130      7      2            0        83.470           87.40  ...   \n",
      "339      5      1            3        52.900           82.26  ...   \n",
      "267      7      8            6        86.350           66.85  ...   \n",
      "412      4      8            3        96.950           94.82  ...   \n",
      "29       7      3            9        94.110           87.40  ...   \n",
      "245      8      8            6        78.850           54.75  ...   \n",
      "386      3      6            5        74.800           82.26  ...   \n",
      "90       7      2            7        89.710           82.26  ...   \n",
      "33       9      9            6        84.910           71.99  ...   \n",
      "26       5      8            3        76.830           77.12  ...   \n",
      "165      7      5            9        66.010           87.40  ...   \n",
      "414      9      7            8        66.010           90.94  ...   \n",
      "341      7      4            5        78.850           54.75  ...   \n",
      "291      6      6            7        80.580           82.26  ...   \n",
      "287      8      5            8        66.010           90.94  ...   \n",
      "403      8      5            8        70.750           61.11  ...   \n",
      "293      3      7            6        83.470           92.88  ...   \n",
      "129      6      7            7        80.580           71.99  ...   \n",
      "41       9      5           10        90.770           82.26  ...   \n",
      "\n",
      "     Sports Track  TVL-HE  TVL-ICT  Female  Male  Prefer not to say  2018  \\\n",
      "117             0       0        1       1     0                  0     0   \n",
      "246             0       0        0       0     1                  0     0   \n",
      "176             0       0        1       0     1                  0     0   \n",
      "153             0       0        0       0     1                  0     0   \n",
      "187             0       0        0       0     1                  0     0   \n",
      "149             0       0        0       1     0                  0     0   \n",
      "409             0       0        0       0     1                  0     0   \n",
      "380             0       0        1       0     1                  0     0   \n",
      "199             0       0        1       0     1                  0     0   \n",
      "101             0       0        0       0     1                  0     0   \n",
      "345             0       0        0       1     0                  0     0   \n",
      "195             0       0        0       1     0                  0     0   \n",
      "167             0       0        0       0     1                  0     0   \n",
      "89              0       0        1       1     0                  0     0   \n",
      "404             0       0        0       1     0                  0     0   \n",
      "204             0       0        0       1     0                  0     0   \n",
      "55              0       0        1       1     0                  0     0   \n",
      "343             0       0        0       1     0                  0     0   \n",
      "74              0       0        1       0     1                  0     0   \n",
      "185             0       0        1       0     1                  0     0   \n",
      "427             0       0        0       0     1                  0     0   \n",
      "130             0       0        1       0     1                  0     0   \n",
      "339             0       0        0       0     1                  0     0   \n",
      "267             0       0        0       0     0                  1     0   \n",
      "412             0       0        0       1     0                  0     0   \n",
      "29              0       0        1       1     0                  0     1   \n",
      "245             0       0        1       1     0                  0     0   \n",
      "386             0       0        0       1     0                  0     0   \n",
      "90              0       0        0       1     0                  0     0   \n",
      "33              0       0        1       0     1                  0     1   \n",
      "26              0       0        0       0     1                  0     1   \n",
      "165             0       0        0       0     1                  0     0   \n",
      "414             0       0        0       0     1                  0     0   \n",
      "341             0       0        0       0     1                  0     0   \n",
      "291             0       0        0       1     0                  0     0   \n",
      "287             0       0        0       0     1                  0     0   \n",
      "403             0       0        0       0     1                  0     0   \n",
      "293             0       0        0       1     0                  0     0   \n",
      "129             0       0        1       0     0                  1     0   \n",
      "41              0       0        0       1     0                  0     1   \n",
      "\n",
      "     2019  2020  2021  \n",
      "117     1     0     0  \n",
      "246     0     1     0  \n",
      "176     0     1     0  \n",
      "153     0     1     0  \n",
      "187     0     1     0  \n",
      "149     0     1     0  \n",
      "409     0     0     1  \n",
      "380     0     0     1  \n",
      "199     0     1     0  \n",
      "101     1     0     0  \n",
      "345     0     0     1  \n",
      "195     0     1     0  \n",
      "167     0     1     0  \n",
      "89      1     0     0  \n",
      "404     0     0     1  \n",
      "204     0     1     0  \n",
      "55      1     0     0  \n",
      "343     0     0     1  \n",
      "74      1     0     0  \n",
      "185     0     1     0  \n",
      "427     0     0     1  \n",
      "130     1     0     0  \n",
      "339     0     0     1  \n",
      "267     0     1     0  \n",
      "412     0     0     1  \n",
      "29      0     0     0  \n",
      "245     0     1     0  \n",
      "386     0     0     1  \n",
      "90      1     0     0  \n",
      "33      0     0     0  \n",
      "26      0     0     0  \n",
      "165     0     1     0  \n",
      "414     0     0     1  \n",
      "341     0     0     1  \n",
      "291     0     0     1  \n",
      "287     0     0     1  \n",
      "403     0     0     1  \n",
      "293     0     0     1  \n",
      "129     1     0     0  \n",
      "41      0     0     0  \n",
      "\n",
      "[40 rows x 29 columns]\n",
      "117    1\n",
      "246    1\n",
      "176    1\n",
      "153    1\n",
      "187    1\n",
      "149    1\n",
      "409    1\n",
      "380    1\n",
      "199    1\n",
      "101    1\n",
      "345    1\n",
      "195    1\n",
      "167    1\n",
      "89     1\n",
      "404    0\n",
      "204    1\n",
      "55     1\n",
      "343    1\n",
      "74     1\n",
      "185    1\n",
      "427    1\n",
      "130    1\n",
      "339    1\n",
      "267    1\n",
      "412    1\n",
      "29     1\n",
      "245    1\n",
      "386    1\n",
      "90     1\n",
      "33     1\n",
      "26     1\n",
      "165    1\n",
      "414    1\n",
      "341    1\n",
      "291    1\n",
      "287    1\n",
      "403    1\n",
      "293    1\n",
      "129    1\n",
      "41     1\n",
      "Name: label, dtype: int64\n"
     ]
    }
   ],
   "source": [
    "# select random data from test dataset\n",
    "new_xdata = X_test.sample(40)\n",
    "new_ydata = y_test['label'].loc[new_xdata.index.values]\n",
    "print(new_xdata)\n",
    "print(new_ydata)"
   ]
  },
  {
   "cell_type": "code",
   "execution_count": 48,
   "id": "61a2c818",
   "metadata": {},
   "outputs": [
    {
     "name": "stdout",
     "output_type": "stream",
     "text": [
      "[1 1 1 1 1 1 1 1 1 1 1 1 1 1 0 1 1 1 1 1 0 1 1 1 1 1 1 1 1 1 1 1 1 1 1 1 1\n",
      " 1 1 0]\n"
     ]
    }
   ],
   "source": [
    "pred = test_model.predict(new_xdata)\n",
    "print(pred)"
   ]
  },
  {
   "cell_type": "code",
   "execution_count": 49,
   "id": "6e896a71",
   "metadata": {},
   "outputs": [
    {
     "name": "stdout",
     "output_type": "stream",
     "text": [
      "[1 1 1 1 1 1 1 1 1 1 1 1 1 1 0 1 1 1 1 1 1 1 1 1 1 1 1 1 1 1 1 1 1 1 1 1 1\n",
      " 1 1 1]\n"
     ]
    }
   ],
   "source": [
    "print(new_ydata.values)"
   ]
  },
  {
   "cell_type": "code",
   "execution_count": 50,
   "id": "15b87a38",
   "metadata": {},
   "outputs": [
    {
     "data": {
      "text/html": [
       "<div>\n",
       "<style scoped>\n",
       "    .dataframe tbody tr th:only-of-type {\n",
       "        vertical-align: middle;\n",
       "    }\n",
       "\n",
       "    .dataframe tbody tr th {\n",
       "        vertical-align: top;\n",
       "    }\n",
       "\n",
       "    .dataframe thead th {\n",
       "        text-align: right;\n",
       "    }\n",
       "</style>\n",
       "<table border=\"1\" class=\"dataframe\">\n",
       "  <thead>\n",
       "    <tr style=\"text-align: right;\">\n",
       "      <th></th>\n",
       "      <th>Prediction</th>\n",
       "      <th>True Value</th>\n",
       "    </tr>\n",
       "  </thead>\n",
       "  <tbody>\n",
       "    <tr>\n",
       "      <th>0</th>\n",
       "      <td>1</td>\n",
       "      <td>1</td>\n",
       "    </tr>\n",
       "    <tr>\n",
       "      <th>1</th>\n",
       "      <td>1</td>\n",
       "      <td>1</td>\n",
       "    </tr>\n",
       "    <tr>\n",
       "      <th>2</th>\n",
       "      <td>1</td>\n",
       "      <td>1</td>\n",
       "    </tr>\n",
       "    <tr>\n",
       "      <th>3</th>\n",
       "      <td>1</td>\n",
       "      <td>1</td>\n",
       "    </tr>\n",
       "    <tr>\n",
       "      <th>4</th>\n",
       "      <td>1</td>\n",
       "      <td>1</td>\n",
       "    </tr>\n",
       "  </tbody>\n",
       "</table>\n",
       "</div>"
      ],
      "text/plain": [
       "   Prediction  True Value\n",
       "0           1           1\n",
       "1           1           1\n",
       "2           1           1\n",
       "3           1           1\n",
       "4           1           1"
      ]
     },
     "execution_count": 50,
     "metadata": {},
     "output_type": "execute_result"
    }
   ],
   "source": [
    "table = pd.DataFrame({'Prediction': pred, 'True Value': new_ydata.values})\n",
    "table.head()"
   ]
  },
  {
   "cell_type": "code",
   "execution_count": 51,
   "id": "18ab5582",
   "metadata": {},
   "outputs": [],
   "source": [
    "cm = confusion_matrix(table['True Value'], table['Prediction'])"
   ]
  },
  {
   "cell_type": "code",
   "execution_count": 52,
   "id": "d2d4c5f4",
   "metadata": {},
   "outputs": [
    {
     "data": {
      "text/plain": [
       "<sklearn.metrics._plot.confusion_matrix.ConfusionMatrixDisplay at 0x1ea567eb2e0>"
      ]
     },
     "execution_count": 52,
     "metadata": {},
     "output_type": "execute_result"
    },
    {
     "data": {
      "image/png": "[encoded data removed]",
      "text/plain": [
       "<Figure size 432x288 with 2 Axes>"
      ]
     },
     "metadata": {
      "needs_background": "light"
     },
     "output_type": "display_data"
    }
   ],
   "source": [
    "from sklearn.metrics import ConfusionMatrixDisplay\n",
    "\n",
    "dis = ConfusionMatrixDisplay(confusion_matrix=cm)\n",
    "dis.plot()"
   ]
  },
  {
   "cell_type": "code",
   "execution_count": 53,
   "id": "b7760d20",
   "metadata": {},
   "outputs": [
    {
     "name": "stdout",
     "output_type": "stream",
     "text": [
      "              precision    recall  f1-score   support\n",
      "\n",
      "           0      0.333     1.000     0.500         1\n",
      "           1      1.000     0.949     0.974        39\n",
      "\n",
      "    accuracy                          0.950        40\n",
      "   macro avg      0.667     0.974     0.737        40\n",
      "weighted avg      0.983     0.950     0.962        40\n",
      "\n"
     ]
    }
   ],
   "source": [
    "print(classification_report(table['True Value'], table['Prediction'], digits=3))"
   ]
  },
  {
   "cell_type": "code",
   "execution_count": 54,
   "id": "a69db44b",
   "metadata": {},
   "outputs": [
    {
     "data": {
      "text/html": [
       "<div>\n",
       "<style scoped>\n",
       "    .dataframe tbody tr th:only-of-type {\n",
       "        vertical-align: middle;\n",
       "    }\n",
       "\n",
       "    .dataframe tbody tr th {\n",
       "        vertical-align: top;\n",
       "    }\n",
       "\n",
       "    .dataframe thead th {\n",
       "        text-align: right;\n",
       "    }\n",
       "</style>\n",
       "<table border=\"1\" class=\"dataframe\">\n",
       "  <thead>\n",
       "    <tr style=\"text-align: right;\">\n",
       "      <th></th>\n",
       "      <th>Prediction</th>\n",
       "      <th>True Value</th>\n",
       "    </tr>\n",
       "  </thead>\n",
       "  <tbody>\n",
       "    <tr>\n",
       "      <th>14</th>\n",
       "      <td>0</td>\n",
       "      <td>0</td>\n",
       "    </tr>\n",
       "  </tbody>\n",
       "</table>\n",
       "</div>"
      ],
      "text/plain": [
       "    Prediction  True Value\n",
       "14           0           0"
      ]
     },
     "execution_count": 54,
     "metadata": {},
     "output_type": "execute_result"
    }
   ],
   "source": [
    "table[table['True Value'] == 0]"
   ]
  },
  {
   "cell_type": "code",
   "execution_count": 56,
   "id": "fc3312e9",
   "metadata": {},
   "outputs": [
    {
     "data": {
      "text/html": [
       "<div>\n",
       "<style scoped>\n",
       "    .dataframe tbody tr th:only-of-type {\n",
       "        vertical-align: middle;\n",
       "    }\n",
       "\n",
       "    .dataframe tbody tr th {\n",
       "        vertical-align: top;\n",
       "    }\n",
       "\n",
       "    .dataframe thead th {\n",
       "        text-align: right;\n",
       "    }\n",
       "</style>\n",
       "<table border=\"1\" class=\"dataframe\">\n",
       "  <thead>\n",
       "    <tr style=\"text-align: right;\">\n",
       "      <th></th>\n",
       "      <th>Prediction</th>\n",
       "      <th>True Value</th>\n",
       "    </tr>\n",
       "  </thead>\n",
       "  <tbody>\n",
       "    <tr>\n",
       "      <th>0</th>\n",
       "      <td>1</td>\n",
       "      <td>1</td>\n",
       "    </tr>\n",
       "    <tr>\n",
       "      <th>1</th>\n",
       "      <td>1</td>\n",
       "      <td>1</td>\n",
       "    </tr>\n",
       "    <tr>\n",
       "      <th>2</th>\n",
       "      <td>1</td>\n",
       "      <td>1</td>\n",
       "    </tr>\n",
       "    <tr>\n",
       "      <th>3</th>\n",
       "      <td>1</td>\n",
       "      <td>1</td>\n",
       "    </tr>\n",
       "    <tr>\n",
       "      <th>4</th>\n",
       "      <td>1</td>\n",
       "      <td>1</td>\n",
       "    </tr>\n",
       "    <tr>\n",
       "      <th>5</th>\n",
       "      <td>1</td>\n",
       "      <td>1</td>\n",
       "    </tr>\n",
       "    <tr>\n",
       "      <th>6</th>\n",
       "      <td>1</td>\n",
       "      <td>1</td>\n",
       "    </tr>\n",
       "    <tr>\n",
       "      <th>7</th>\n",
       "      <td>1</td>\n",
       "      <td>1</td>\n",
       "    </tr>\n",
       "    <tr>\n",
       "      <th>8</th>\n",
       "      <td>1</td>\n",
       "      <td>1</td>\n",
       "    </tr>\n",
       "    <tr>\n",
       "      <th>9</th>\n",
       "      <td>1</td>\n",
       "      <td>1</td>\n",
       "    </tr>\n",
       "    <tr>\n",
       "      <th>10</th>\n",
       "      <td>1</td>\n",
       "      <td>1</td>\n",
       "    </tr>\n",
       "    <tr>\n",
       "      <th>11</th>\n",
       "      <td>1</td>\n",
       "      <td>1</td>\n",
       "    </tr>\n",
       "    <tr>\n",
       "      <th>12</th>\n",
       "      <td>1</td>\n",
       "      <td>1</td>\n",
       "    </tr>\n",
       "    <tr>\n",
       "      <th>13</th>\n",
       "      <td>1</td>\n",
       "      <td>1</td>\n",
       "    </tr>\n",
       "    <tr>\n",
       "      <th>15</th>\n",
       "      <td>1</td>\n",
       "      <td>1</td>\n",
       "    </tr>\n",
       "    <tr>\n",
       "      <th>16</th>\n",
       "      <td>1</td>\n",
       "      <td>1</td>\n",
       "    </tr>\n",
       "    <tr>\n",
       "      <th>17</th>\n",
       "      <td>1</td>\n",
       "      <td>1</td>\n",
       "    </tr>\n",
       "    <tr>\n",
       "      <th>18</th>\n",
       "      <td>1</td>\n",
       "      <td>1</td>\n",
       "    </tr>\n",
       "    <tr>\n",
       "      <th>19</th>\n",
       "      <td>1</td>\n",
       "      <td>1</td>\n",
       "    </tr>\n",
       "    <tr>\n",
       "      <th>21</th>\n",
       "      <td>1</td>\n",
       "      <td>1</td>\n",
       "    </tr>\n",
       "    <tr>\n",
       "      <th>22</th>\n",
       "      <td>1</td>\n",
       "      <td>1</td>\n",
       "    </tr>\n",
       "    <tr>\n",
       "      <th>23</th>\n",
       "      <td>1</td>\n",
       "      <td>1</td>\n",
       "    </tr>\n",
       "    <tr>\n",
       "      <th>24</th>\n",
       "      <td>1</td>\n",
       "      <td>1</td>\n",
       "    </tr>\n",
       "    <tr>\n",
       "      <th>25</th>\n",
       "      <td>1</td>\n",
       "      <td>1</td>\n",
       "    </tr>\n",
       "    <tr>\n",
       "      <th>26</th>\n",
       "      <td>1</td>\n",
       "      <td>1</td>\n",
       "    </tr>\n",
       "    <tr>\n",
       "      <th>27</th>\n",
       "      <td>1</td>\n",
       "      <td>1</td>\n",
       "    </tr>\n",
       "    <tr>\n",
       "      <th>28</th>\n",
       "      <td>1</td>\n",
       "      <td>1</td>\n",
       "    </tr>\n",
       "    <tr>\n",
       "      <th>29</th>\n",
       "      <td>1</td>\n",
       "      <td>1</td>\n",
       "    </tr>\n",
       "    <tr>\n",
       "      <th>30</th>\n",
       "      <td>1</td>\n",
       "      <td>1</td>\n",
       "    </tr>\n",
       "    <tr>\n",
       "      <th>31</th>\n",
       "      <td>1</td>\n",
       "      <td>1</td>\n",
       "    </tr>\n",
       "    <tr>\n",
       "      <th>32</th>\n",
       "      <td>1</td>\n",
       "      <td>1</td>\n",
       "    </tr>\n",
       "    <tr>\n",
       "      <th>33</th>\n",
       "      <td>1</td>\n",
       "      <td>1</td>\n",
       "    </tr>\n",
       "    <tr>\n",
       "      <th>34</th>\n",
       "      <td>1</td>\n",
       "      <td>1</td>\n",
       "    </tr>\n",
       "    <tr>\n",
       "      <th>35</th>\n",
       "      <td>1</td>\n",
       "      <td>1</td>\n",
       "    </tr>\n",
       "    <tr>\n",
       "      <th>36</th>\n",
       "      <td>1</td>\n",
       "      <td>1</td>\n",
       "    </tr>\n",
       "    <tr>\n",
       "      <th>37</th>\n",
       "      <td>1</td>\n",
       "      <td>1</td>\n",
       "    </tr>\n",
       "    <tr>\n",
       "      <th>38</th>\n",
       "      <td>1</td>\n",
       "      <td>1</td>\n",
       "    </tr>\n",
       "  </tbody>\n",
       "</table>\n",
       "</div>"
      ],
      "text/plain": [
       "    Prediction  True Value\n",
       "0            1           1\n",
       "1            1           1\n",
       "2            1           1\n",
       "3            1           1\n",
       "4            1           1\n",
       "5            1           1\n",
       "6            1           1\n",
       "7            1           1\n",
       "8            1           1\n",
       "9            1           1\n",
       "10           1           1\n",
       "11           1           1\n",
       "12           1           1\n",
       "13           1           1\n",
       "15           1           1\n",
       "16           1           1\n",
       "17           1           1\n",
       "18           1           1\n",
       "19           1           1\n",
       "21           1           1\n",
       "22           1           1\n",
       "23           1           1\n",
       "24           1           1\n",
       "25           1           1\n",
       "26           1           1\n",
       "27           1           1\n",
       "28           1           1\n",
       "29           1           1\n",
       "30           1           1\n",
       "31           1           1\n",
       "32           1           1\n",
       "33           1           1\n",
       "34           1           1\n",
       "35           1           1\n",
       "36           1           1\n",
       "37           1           1\n",
       "38           1           1"
      ]
     },
     "execution_count": 56,
     "metadata": {},
     "output_type": "execute_result"
    }
   ],
   "source": [
    "table[table['Prediction'] == 1]"
   ]
  },
  {
   "cell_type": "code",
   "execution_count": 57,
   "id": "616e525b",
   "metadata": {},
   "outputs": [
    {
     "data": {
      "text/plain": [
       "Age                            20.00\n",
       "Financial Status                1.00\n",
       "Has a Laptop                    2.00\n",
       "Type of Internet Connection     1.00\n",
       "CC100                           7.00\n",
       "CC101                           6.00\n",
       "CC102                           7.00\n",
       "CS111/IT112                     7.00\n",
       "English Prof                   80.58\n",
       "Reading Compre                 71.99\n",
       "Science Process                91.97\n",
       "Quantitative                   44.18\n",
       "Abstract                       53.29\n",
       "CET OAPR                       79.72\n",
       "SHS/HS GPA                     91.00\n",
       "ABM/BAM                         0.00\n",
       "GAS                             0.00\n",
       "HUMSS                           0.00\n",
       "STEM                            0.00\n",
       "Sports Track                    0.00\n",
       "TVL-HE                          0.00\n",
       "TVL-ICT                         1.00\n",
       "Female                          0.00\n",
       "Male                            0.00\n",
       "Prefer not to say               1.00\n",
       "2018                            0.00\n",
       "2019                            1.00\n",
       "2020                            0.00\n",
       "2021                            0.00\n",
       "Name: 129, dtype: float64"
      ]
     },
     "execution_count": 57,
     "metadata": {},
     "output_type": "execute_result"
    }
   ],
   "source": [
    "new_xdata.iloc[38]"
   ]
  },
  {
   "cell_type": "code",
   "execution_count": 28,
   "id": "e7d614f2",
   "metadata": {},
   "outputs": [
    {
     "data": {
      "text/plain": [
       "Age                            22.00\n",
       "Financial Status                2.00\n",
       "Has a Laptop                    1.00\n",
       "Type of Internet Connection     1.00\n",
       "CC100                           1.00\n",
       "CC101                           7.00\n",
       "CC102                           8.00\n",
       "CS111/IT112                     8.00\n",
       "English Prof                   70.75\n",
       "Reading Compre                 54.75\n",
       "Science Process                85.06\n",
       "Quantitative                   44.18\n",
       "Abstract                       26.06\n",
       "CET OAPR                       66.95\n",
       "SHS/HS GPA                     86.00\n",
       "ABM/BAM                         0.00\n",
       "GAS                             0.00\n",
       "HUMSS                           1.00\n",
       "STEM                            0.00\n",
       "Sports Track                    0.00\n",
       "TVL-HE                          0.00\n",
       "TVL-ICT                         0.00\n",
       "Female                          1.00\n",
       "Male                            0.00\n",
       "Prefer not to say               0.00\n",
       "2018                            0.00\n",
       "2019                            0.00\n",
       "2020                            1.00\n",
       "2021                            0.00\n",
       "Name: 204, dtype: float64"
      ]
     },
     "execution_count": 28,
     "metadata": {},
     "output_type": "execute_result"
    }
   ],
   "source": [
    "new_xdata.iloc[22]"
   ]
  },
  {
   "cell_type": "code",
   "execution_count": 29,
   "id": "3897f26a",
   "metadata": {},
   "outputs": [
    {
     "data": {
      "text/plain": [
       "Age                            21.00\n",
       "Financial Status                2.00\n",
       "Has a Laptop                    2.00\n",
       "Type of Internet Connection     1.00\n",
       "CC100                           1.00\n",
       "CC101                           7.00\n",
       "CC102                           2.00\n",
       "CS111/IT112                     0.00\n",
       "English Prof                   83.47\n",
       "Reading Compre                 87.40\n",
       "Science Process                97.72\n",
       "Quantitative                   44.18\n",
       "Abstract                       79.78\n",
       "CET OAPR                       88.22\n",
       "SHS/HS GPA                     88.50\n",
       "ABM/BAM                         0.00\n",
       "GAS                             0.00\n",
       "HUMSS                           0.00\n",
       "STEM                            0.00\n",
       "Sports Track                    0.00\n",
       "TVL-HE                          0.00\n",
       "TVL-ICT                         1.00\n",
       "Female                          0.00\n",
       "Male                            1.00\n",
       "Prefer not to say               0.00\n",
       "2018                            0.00\n",
       "2019                            1.00\n",
       "2020                            0.00\n",
       "2021                            0.00\n",
       "Name: 130, dtype: float64"
      ]
     },
     "execution_count": 29,
     "metadata": {},
     "output_type": "execute_result"
    }
   ],
   "source": [
    "new_xdata.iloc[25]"
   ]
  },
  {
   "cell_type": "code",
   "execution_count": null,
   "id": "d743d2c7",
   "metadata": {},
   "outputs": [],
   "source": []
  }
 ],
 "metadata": {
  "kernelspec": {
   "display_name": "Python 3",
   "language": "python",
   "name": "python3"
  },
  "language_info": {
   "codemirror_mode": {
    "name": "ipython",
    "version": 3
   },
   "file_extension": ".py",
   "mimetype": "text/x-python",
   "name": "python",
   "nbconvert_exporter": "python",
   "pygments_lexer": "ipython3",
   "version": "3.8.8"
  }
 },
 "nbformat": 4,
 "nbformat_minor": 5
}
